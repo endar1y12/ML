{
  "nbformat": 4,
  "nbformat_minor": 0,
  "metadata": {
    "colab": {
      "provenance": [],
      "authorship_tag": "ABX9TyNLSagtI9bIVtJJ68YQt6dt",
      "include_colab_link": true
    },
    "kernelspec": {
      "name": "python3",
      "display_name": "Python 3"
    },
    "language_info": {
      "name": "python"
    }
  },
  "cells": [
    {
      "cell_type": "markdown",
      "metadata": {
        "id": "view-in-github",
        "colab_type": "text"
      },
      "source": [
        "<a href=\"https://colab.research.google.com/github/endar1y12/ML/blob/main/ML__meet_12.ipynb\" target=\"_parent\"><img src=\"https://colab.research.google.com/assets/colab-badge.svg\" alt=\"Open In Colab\"/></a>"
      ]
    },
    {
      "cell_type": "markdown",
      "source": [
        "NAIVE BAYES\n"
      ],
      "metadata": {
        "id": "VKX10hk_5p76"
      }
    },
    {
      "cell_type": "code",
      "execution_count": null,
      "metadata": {
        "id": "_RTXhelc-Iml",
        "colab": {
          "base_uri": "https://localhost:8080/"
        },
        "outputId": "68a0f504-75a5-4c8a-8a49-b598dbe1e85e"
      },
      "outputs": [
        {
          "output_type": "stream",
          "name": "stdout",
          "text": [
            "[2 2 1 0 0 0 1 2 2 0 2 1 1 0]\n"
          ]
        }
      ],
      "source": [
        "#dataset\n",
        "cuaca = ['panas','panas','mendung','hujan','hujan','hujan','mendung','panas','panas','hujan','panas','mendung','mendung','hujan']\n",
        "kategori_suhu = ['Hot','Hot','Hot','Mild','Cool','Cool','Cool','Mild','Cool','Mild','Mild','Mild','Cool','Mild']\n",
        "kuliah =['Tidak','Tidak','Ya','Ya','Ya','Tidak','Ya','Tidak','Ya','Ya','Ya','Ya','Ya','Tidak']\n",
        "\n",
        "#library\n",
        "from sklearn import preprocessing\n",
        "le = preprocessing.LabelEncoder()\n",
        "cuaca_encoded = le.fit_transform(cuaca)\n",
        "print(cuaca_encoded)\n",
        "\n"
      ]
    },
    {
      "cell_type": "code",
      "source": [
        "#konversi string ke angka\n",
        "suhu_encoded = le.fit_transform(kategori_suhu)\n",
        "label = le.fit_transform(kuliah)\n",
        "print(\"Suhu:\",suhu_encoded)\n",
        "print(\"Kuliah:\",label)\n"
      ],
      "metadata": {
        "colab": {
          "base_uri": "https://localhost:8080/"
        },
        "id": "8vz-gkiZELpU",
        "outputId": "4a985dba-f5b1-49bf-c6d5-5efd44677fb7"
      },
      "execution_count": null,
      "outputs": [
        {
          "output_type": "stream",
          "name": "stdout",
          "text": [
            "Suhu: [1 1 1 2 0 0 0 2 0 2 2 2 0 2]\n",
            "Kuliah: [0 0 1 1 1 0 1 0 1 1 1 1 1 0]\n"
          ]
        }
      ]
    },
    {
      "cell_type": "code",
      "source": [
        "#gabungan cuaca dan suhu\n",
        "fitur = list(zip(cuaca_encoded,suhu_encoded))\n",
        "print(fitur)"
      ],
      "metadata": {
        "colab": {
          "base_uri": "https://localhost:8080/"
        },
        "id": "cxR35xXaE4gI",
        "outputId": "d2c2fcb0-3809-4b42-a9e9-795bf71d3a84"
      },
      "execution_count": null,
      "outputs": [
        {
          "output_type": "stream",
          "name": "stdout",
          "text": [
            "[(2, 1), (2, 1), (1, 1), (0, 2), (0, 0), (0, 0), (1, 0), (2, 2), (2, 0), (0, 2), (2, 2), (1, 2), (1, 0), (0, 2)]\n"
          ]
        }
      ]
    },
    {
      "cell_type": "code",
      "source": [
        "#import gaussian naive bayes\n",
        "from sklearn.naive_bayes import GaussianNB\n",
        "\n",
        "#buat model\n",
        "model = GaussianNB()\n",
        "\n",
        "#train\n",
        "model.fit(fitur,label)\n",
        "\n",
        "#prediksi\n",
        "predicted = model.predict([[0,2],[2,0],[1,2],[2,1],[2,2]])# cuaca dan suhu\n",
        "print(\"Predicted:\",predicted)\n",
        "truelabel = [1,0,1,1,1]\n",
        "print(\"True Label\",truelabel)"
      ],
      "metadata": {
        "colab": {
          "base_uri": "https://localhost:8080/"
        },
        "id": "hQSPAvX2EP93",
        "outputId": "c8fe4726-d85c-41c6-9a8b-3c3e6972c242"
      },
      "execution_count": null,
      "outputs": [
        {
          "output_type": "stream",
          "name": "stdout",
          "text": [
            "Predicted: [1 1 1 0 0]\n",
            "True Label [1, 0, 1, 1, 1]\n"
          ]
        }
      ]
    },
    {
      "cell_type": "code",
      "source": [
        "from sklearn.metrics import accuracy_score,confusion_matrix\n",
        "import seaborn as sns;sns.set()\n",
        "ac = accuracy_score(label,model.predict(fitur))\n",
        "score = confusion_matrix(label,model.predict(fitur))\n",
        "\n",
        "print(ac)\n",
        "ax = sns.heatmap(score,annot=True,fmt=\"d\",cmap=\"Blues\")"
      ],
      "metadata": {
        "colab": {
          "base_uri": "https://localhost:8080/",
          "height": 458
        },
        "id": "cQ61CItxFOSn",
        "outputId": "91bfb391-baa9-4be1-ec66-5d12dda091d7"
      },
      "execution_count": null,
      "outputs": [
        {
          "output_type": "stream",
          "name": "stdout",
          "text": [
            "0.7857142857142857\n"
          ]
        },
        {
          "output_type": "display_data",
          "data": {
            "text/plain": [
              "<Figure size 640x480 with 2 Axes>"
            ],
            "image/png": "[encoded data removed]"
          },
          "metadata": {}
        }
      ]
    }
  ]
}