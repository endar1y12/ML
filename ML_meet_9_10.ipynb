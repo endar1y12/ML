{
  "nbformat": 4,
  "nbformat_minor": 0,
  "metadata": {
    "colab": {
      "provenance": [],
      "authorship_tag": "ABX9TyMvXgOaUn4apLsyPeqDpH4D",
      "include_colab_link": true
    },
    "kernelspec": {
      "name": "python3",
      "display_name": "Python 3"
    },
    "language_info": {
      "name": "python"
    }
  },
  "cells": [
    {
      "cell_type": "markdown",
      "metadata": {
        "id": "view-in-github",
        "colab_type": "text"
      },
      "source": [
        "<a href=\"https://colab.research.google.com/github/endar1y12/ML/blob/main/ML_meet_9_10.ipynb\" target=\"_parent\"><img src=\"https://colab.research.google.com/assets/colab-badge.svg\" alt=\"Open In Colab\"/></a>"
      ]
    },
    {
      "cell_type": "markdown",
      "source": [
        "#KMeans - mengelompokan objek berdasarkan atribut (kesamaan karakteristik)\n",
        "\n",
        "start - jml cluster k - identifikasi centroid - jarak objek ke centroid-mengelompokan --> jika masih ada perpindahan kembali ke jarak objek ke centroid--> jika tidak ada maka akan menghasilkan cluster\n",
        "\n",
        "\n",
        "\n"
      ],
      "metadata": {
        "id": "TagJMquk3j8h"
      }
    },
    {
      "cell_type": "code",
      "execution_count": null,
      "metadata": {
        "id": "xl9XyDlT2KTM"
      },
      "outputs": [],
      "source": [
        "import numpy as np\n",
        "import matplotlib.pyplot as plt\n",
        "from sklearn.cluster import KMeans\n",
        "from sklearn.metrics import accuracy_score"
      ]
    },
    {
      "cell_type": "code",
      "source": [
        "# x = np.array([[1,2],[5,8],[1.5,1.8],[8,8],[6,7],[9,11]])\n",
        "x = np.array([[1.0,2.0],[1.1,2.0],[1.0,1.0],[1.0,0.5],[0.5,2.0],[0.5,1.0],[0.5,3.0],[0.5,4.0],[1.5,2.0],[1.5,1.0],[1.5,0.5]])\n",
        "print(x)"
      ],
      "metadata": {
        "colab": {
          "base_uri": "https://localhost:8080/"
        },
        "id": "_KowzsFX3tbS",
        "outputId": "375e1843-ba44-4300-fb2d-a1b880cc0f21"
      },
      "execution_count": null,
      "outputs": [
        {
          "output_type": "stream",
          "name": "stdout",
          "text": [
            "[[1.  2. ]\n",
            " [1.1 2. ]\n",
            " [1.  1. ]\n",
            " [1.  0.5]\n",
            " [0.5 2. ]\n",
            " [0.5 1. ]\n",
            " [0.5 3. ]\n",
            " [0.5 4. ]\n",
            " [1.5 2. ]\n",
            " [1.5 1. ]\n",
            " [1.5 0.5]]\n"
          ]
        }
      ]
    },
    {
      "cell_type": "code",
      "source": [
        "labelX = np.array([0,0,1,0,1,1,1,0,1,0,1])\n",
        "print(labelX)"
      ],
      "metadata": {
        "colab": {
          "base_uri": "https://localhost:8080/"
        },
        "id": "luoe23CY5umh",
        "outputId": "97698399-05e3-4450-ff30-684a968f34e5"
      },
      "execution_count": null,
      "outputs": [
        {
          "output_type": "stream",
          "name": "stdout",
          "text": [
            "[0 0 1 0 1 1 1 0 1 0 1]\n"
          ]
        }
      ]
    },
    {
      "cell_type": "code",
      "source": [
        "kmeans = KMeans(n_clusters =2,random_state=0,n_init=\"auto\")\n",
        "kmeans.fit(x)"
      ],
      "metadata": {
        "colab": {
          "base_uri": "https://localhost:8080/",
          "height": 74
        },
        "id": "oZepPbOS5-MR",
        "outputId": "c85211cc-de28-4e99-f8d3-cc5630363ed7"
      },
      "execution_count": null,
      "outputs": [
        {
          "output_type": "execute_result",
          "data": {
            "text/plain": [
              "KMeans(n_clusters=2, n_init='auto', random_state=0)"
            ],
            "text/html": [
              "<style>#sk-container-id-1 {color: black;background-color: white;}#sk-container-id-1 pre{padding: 0;}#sk-container-id-1 div.sk-toggleable {background-color: white;}#sk-container-id-1 label.sk-toggleable__label {cursor: pointer;display: block;width: 100%;margin-bottom: 0;padding: 0.3em;box-sizing: border-box;text-align: center;}#sk-container-id-1 label.sk-toggleable__label-arrow:before {content: \"▸\";float: left;margin-right: 0.25em;color: #696969;}#sk-container-id-1 label.sk-toggleable__label-arrow:hover:before {color: black;}#sk-container-id-1 div.sk-estimator:hover label.sk-toggleable__label-arrow:before {color: black;}#sk-container-id-1 div.sk-toggleable__content {max-height: 0;max-width: 0;overflow: hidden;text-align: left;background-color: #f0f8ff;}#sk-container-id-1 div.sk-toggleable__content pre {margin: 0.2em;color: black;border-radius: 0.25em;background-color: #f0f8ff;}#sk-container-id-1 input.sk-toggleable__control:checked~div.sk-toggleable__content {max-height: 200px;max-width: 100%;overflow: auto;}#sk-container-id-1 input.sk-toggleable__control:checked~label.sk-toggleable__label-arrow:before {content: \"▾\";}#sk-container-id-1 div.sk-estimator input.sk-toggleable__control:checked~label.sk-toggleable__label {background-color: #d4ebff;}#sk-container-id-1 div.sk-label input.sk-toggleable__control:checked~label.sk-toggleable__label {background-color: #d4ebff;}#sk-container-id-1 input.sk-hidden--visually {border: 0;clip: rect(1px 1px 1px 1px);clip: rect(1px, 1px, 1px, 1px);height: 1px;margin: -1px;overflow: hidden;padding: 0;position: absolute;width: 1px;}#sk-container-id-1 div.sk-estimator {font-family: monospace;background-color: #f0f8ff;border: 1px dotted black;border-radius: 0.25em;box-sizing: border-box;margin-bottom: 0.5em;}#sk-container-id-1 div.sk-estimator:hover {background-color: #d4ebff;}#sk-container-id-1 div.sk-parallel-item::after {content: \"\";width: 100%;border-bottom: 1px solid gray;flex-grow: 1;}#sk-container-id-1 div.sk-label:hover label.sk-toggleable__label {background-color: #d4ebff;}#sk-container-id-1 div.sk-serial::before {content: \"\";position: absolute;border-left: 1px solid gray;box-sizing: border-box;top: 0;bottom: 0;left: 50%;z-index: 0;}#sk-container-id-1 div.sk-serial {display: flex;flex-direction: column;align-items: center;background-color: white;padding-right: 0.2em;padding-left: 0.2em;position: relative;}#sk-container-id-1 div.sk-item {position: relative;z-index: 1;}#sk-container-id-1 div.sk-parallel {display: flex;align-items: stretch;justify-content: center;background-color: white;position: relative;}#sk-container-id-1 div.sk-item::before, #sk-container-id-1 div.sk-parallel-item::before {content: \"\";position: absolute;border-left: 1px solid gray;box-sizing: border-box;top: 0;bottom: 0;left: 50%;z-index: -1;}#sk-container-id-1 div.sk-parallel-item {display: flex;flex-direction: column;z-index: 1;position: relative;background-color: white;}#sk-container-id-1 div.sk-parallel-item:first-child::after {align-self: flex-end;width: 50%;}#sk-container-id-1 div.sk-parallel-item:last-child::after {align-self: flex-start;width: 50%;}#sk-container-id-1 div.sk-parallel-item:only-child::after {width: 0;}#sk-container-id-1 div.sk-dashed-wrapped {border: 1px dashed gray;margin: 0 0.4em 0.5em 0.4em;box-sizing: border-box;padding-bottom: 0.4em;background-color: white;}#sk-container-id-1 div.sk-label label {font-family: monospace;font-weight: bold;display: inline-block;line-height: 1.2em;}#sk-container-id-1 div.sk-label-container {text-align: center;}#sk-container-id-1 div.sk-container {/* jupyter's `normalize.less` sets `[hidden] { display: none; }` but bootstrap.min.css set `[hidden] { display: none !important; }` so we also need the `!important` here to be able to override the default hidden behavior on the sphinx rendered scikit-learn.org. See: https://github.com/scikit-learn/scikit-learn/issues/21755 */display: inline-block !important;position: relative;}#sk-container-id-1 div.sk-text-repr-fallback {display: none;}</style><div id=\"sk-container-id-1\" class=\"sk-top-container\"><div class=\"sk-text-repr-fallback\"><pre>KMeans(n_clusters=2, n_init=&#x27;auto&#x27;, random_state=0)</pre><b>In a Jupyter environment, please rerun this cell to show the HTML representation or trust the notebook. <br />On GitHub, the HTML representation is unable to render, please try loading this page with nbviewer.org.</b></div><div class=\"sk-container\" hidden><div class=\"sk-item\"><div class=\"sk-estimator sk-toggleable\"><input class=\"sk-toggleable__control sk-hidden--visually\" id=\"sk-estimator-id-1\" type=\"checkbox\" checked><label for=\"sk-estimator-id-1\" class=\"sk-toggleable__label sk-toggleable__label-arrow\">KMeans</label><div class=\"sk-toggleable__content\"><pre>KMeans(n_clusters=2, n_init=&#x27;auto&#x27;, random_state=0)</pre></div></div></div></div></div>"
            ]
          },
          "metadata": {},
          "execution_count": 4
        }
      ]
    },
    {
      "cell_type": "code",
      "source": [
        "centroids = kmeans.cluster_centers_\n",
        "labels = kmeans.labels_\n",
        "print(\"centrdoids:\\n\",centroids)\n",
        "print(\"labels:\\n\",labels)"
      ],
      "metadata": {
        "colab": {
          "base_uri": "https://localhost:8080/"
        },
        "id": "qf9s_F8g6Pf8",
        "outputId": "c2f595f0-7798-4dd3-a79f-65a0c00a7509"
      },
      "execution_count": null,
      "outputs": [
        {
          "output_type": "stream",
          "name": "stdout",
          "text": [
            "centrdoids:\n",
            " [[1.1  0.8 ]\n",
            " [0.85 2.5 ]]\n",
            "labels:\n",
            " [1 1 0 0 1 0 1 1 1 0 0]\n"
          ]
        }
      ]
    },
    {
      "cell_type": "code",
      "source": [
        "colors = [\"g.\",\"r.\",\"c.\",\"y.\"]\n",
        "for i in range (len(x)): #\n",
        "  print(\"coordinate:\",x[i],\"label:\",labels[i])\n",
        "  plt.plot(x[i][0],x[i][1],colors[labels[i]],markersize = 10 )#menghasilkan gambar dengan cluster 1 dan 0\n",
        "  plt.scatter(centroids[:,0],centroids[:,1],marker=\"x\",s=150,linewidths =5,zorder=10)#label 0 dan 1\n",
        "  # plt.show()\n",
        "  prediction = kmeans.predict([[5,6]])\n",
        "  print(\"Prediksi:\",prediction)\n",
        "  print(kmeans.predict(x))\n",
        "  print(labelX)\n",
        "\n",
        "\n"
      ],
      "metadata": {
        "id": "V-ZQvOQD8OsQ",
        "colab": {
          "base_uri": "https://localhost:8080/",
          "height": 1000
        },
        "outputId": "34167724-92b8-4670-990f-62d978cd8cae"
      },
      "execution_count": null,
      "outputs": [
        {
          "output_type": "stream",
          "name": "stdout",
          "text": [
            "coordinate: [1. 2.] label: 1\n",
            "Prediksi: [1]\n",
            "[1 1 0 0 1 0 1 1 1 0 0]\n",
            "[0 0 1 0 1 1 1 0 1 0 1]\n",
            "coordinate: [1.1 2. ] label: 1\n",
            "Prediksi: [1]\n",
            "[1 1 0 0 1 0 1 1 1 0 0]\n",
            "[0 0 1 0 1 1 1 0 1 0 1]\n",
            "coordinate: [1. 1.] label: 0\n",
            "Prediksi: [1]\n",
            "[1 1 0 0 1 0 1 1 1 0 0]\n",
            "[0 0 1 0 1 1 1 0 1 0 1]\n",
            "coordinate: [1.  0.5] label: 0\n",
            "Prediksi: [1]\n",
            "[1 1 0 0 1 0 1 1 1 0 0]\n",
            "[0 0 1 0 1 1 1 0 1 0 1]\n",
            "coordinate: [0.5 2. ] label: 1\n",
            "Prediksi: [1]\n",
            "[1 1 0 0 1 0 1 1 1 0 0]\n",
            "[0 0 1 0 1 1 1 0 1 0 1]\n",
            "coordinate: [0.5 1. ] label: 0\n",
            "Prediksi: [1]\n",
            "[1 1 0 0 1 0 1 1 1 0 0]\n",
            "[0 0 1 0 1 1 1 0 1 0 1]\n",
            "coordinate: [0.5 3. ] label: 1\n",
            "Prediksi: [1]\n",
            "[1 1 0 0 1 0 1 1 1 0 0]\n",
            "[0 0 1 0 1 1 1 0 1 0 1]\n",
            "coordinate: [0.5 4. ] label: 1\n",
            "Prediksi: [1]\n",
            "[1 1 0 0 1 0 1 1 1 0 0]\n",
            "[0 0 1 0 1 1 1 0 1 0 1]\n",
            "coordinate: [1.5 2. ] label: 1\n",
            "Prediksi: [1]\n",
            "[1 1 0 0 1 0 1 1 1 0 0]\n",
            "[0 0 1 0 1 1 1 0 1 0 1]\n",
            "coordinate: [1.5 1. ] label: 0\n",
            "Prediksi: [1]\n",
            "[1 1 0 0 1 0 1 1 1 0 0]\n",
            "[0 0 1 0 1 1 1 0 1 0 1]\n",
            "coordinate: [1.5 0.5] label: 0\n",
            "Prediksi: [1]\n",
            "[1 1 0 0 1 0 1 1 1 0 0]\n",
            "[0 0 1 0 1 1 1 0 1 0 1]\n"
          ]
        },
        {
          "output_type": "display_data",
          "data": {
            "text/plain": [
              "<Figure size 640x480 with 1 Axes>"
            ],
            "image/png": "[encoded data removed]"
          },
          "metadata": {}
        }
      ]
    },
    {
      "cell_type": "code",
      "source": [
        "from sklearn.metrics import accuracy_score,confusion_matrix\n",
        "\n",
        "score = accuracy_score(labelX,kmeans.predict(x))\n",
        "print(score)\n",
        "\n",
        "score1 = confusion_matrix(labelX,kmeans.predict(x))\n",
        "print(score1)\n",
        "\n",
        "import seaborn as sns; sns.set()\n",
        "ax = sns.heatmap(score1,annot=True ,fmt=\"d\",cmap=\"Blues\")"
      ],
      "metadata": {
        "colab": {
          "base_uri": "https://localhost:8080/",
          "height": 495
        },
        "id": "80Qko1eh9AQz",
        "outputId": "599d0e1d-e764-46de-b6aa-0265fc8c2c37"
      },
      "execution_count": null,
      "outputs": [
        {
          "output_type": "stream",
          "name": "stdout",
          "text": [
            "0.45454545454545453\n",
            "[[2 3]\n",
            " [3 3]]\n"
          ]
        },
        {
          "output_type": "display_data",
          "data": {
            "text/plain": [
              "<Figure size 640x480 with 2 Axes>"
            ],
            "image/png": "[encoded data removed]"
          },
          "metadata": {}
        }
      ]
    }
  ]
}