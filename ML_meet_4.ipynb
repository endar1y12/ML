{
  "nbformat": 4,
  "nbformat_minor": 0,
  "metadata": {
    "colab": {
      "provenance": [],
      "mount_file_id": "1jPNrm18exAIFnx-4CjOarq9KfNStJolz",
      "authorship_tag": "ABX9TyO0zIVxon8vjXa/JKgKLdgH",
      "include_colab_link": true
    },
    "kernelspec": {
      "name": "python3",
      "display_name": "Python 3"
    },
    "language_info": {
      "name": "python"
    }
  },
  "cells": [
    {
      "cell_type": "markdown",
      "metadata": {
        "id": "view-in-github",
        "colab_type": "text"
      },
      "source": [
        "<a href=\"https://colab.research.google.com/github/endar1y12/ML/blob/main/ML_meet_4.ipynb\" target=\"_parent\"><img src=\"https://colab.research.google.com/assets/colab-badge.svg\" alt=\"Open In Colab\"/></a>"
      ]
    },
    {
      "cell_type": "code",
      "execution_count": null,
      "metadata": {
        "colab": {
          "base_uri": "https://localhost:8080/"
        },
        "id": "__s6tBzhQXWX",
        "outputId": "739a5e07-7823-4806-f9e2-ec9530ef9491"
      },
      "outputs": [
        {
          "output_type": "stream",
          "name": "stdout",
          "text": [
            "   KodeApt   Wilayah St_Milik  Jum_Kamar\n",
            "0    104.0    Bantul        Y        3.0\n",
            "1    197.0    Sleman        N        3.0\n",
            "2   8837.0    Sleman        N        3.0\n",
            "3    201.0     Yogya        N        1.0\n",
            "4    203.0     Yogya        Y        3.0\n",
            "5    207.0     Yogya        Y        3.0\n",
            "6    837.0  KL-Progo        Y        2.0\n",
            "7    213.0    Bantul        Y        3.0\n",
            "8    215.0    Bantul        Y        3.0\n",
            "<class 'pandas.core.frame.DataFrame'>\n",
            "RangeIndex: 9 entries, 0 to 8\n",
            "Data columns (total 4 columns):\n",
            " #   Column     Non-Null Count  Dtype  \n",
            "---  ------     --------------  -----  \n",
            " 0   KodeApt    9 non-null      float64\n",
            " 1   Wilayah    9 non-null      object \n",
            " 2   St_Milik   9 non-null      object \n",
            " 3   Jum_Kamar  9 non-null      float64\n",
            "dtypes: float64(2), object(2)\n",
            "memory usage: 416.0+ bytes\n"
          ]
        }
      ],
      "source": [
        "import pandas as pd\n",
        "import numpy as np\n",
        "\n",
        "df = pd.read_csv(\"/content/drive/MyDrive/Colab Notebooks/ML/apartemen_ok.csv\")\n",
        "print(df)\n",
        "df.info()"
      ]
    },
    {
      "cell_type": "code",
      "source": [
        "#membuat list yang akan ditambahkan menjadi kolom tambahan\n",
        "label_kelas = ['Murah','Murah','Mahal','Murah','Mahal','Mahal','Mahal','Murah','Murah']\n",
        "\n",
        "#memberikan nama kolom tambahan 'label'\n",
        "df['Label'] =label_kelas\n",
        "df"
      ],
      "metadata": {
        "colab": {
          "base_uri": "https://localhost:8080/",
          "height": 332
        },
        "id": "OtOCMOtzRePH",
        "outputId": "db710560-c6b3-418a-8f4a-127870fe6c2b"
      },
      "execution_count": null,
      "outputs": [
        {
          "output_type": "execute_result",
          "data": {
            "text/plain": [
              "   KodeApt   Wilayah St_Milik  Jum_Kamar  Label\n",
              "0    104.0    Bantul        Y        3.0  Murah\n",
              "1    197.0    Sleman        N        3.0  Murah\n",
              "2   8837.0    Sleman        N        3.0  Mahal\n",
              "3    201.0     Yogya        N        1.0  Murah\n",
              "4    203.0     Yogya        Y        3.0  Mahal\n",
              "5    207.0     Yogya        Y        3.0  Mahal\n",
              "6    837.0  KL-Progo        Y        2.0  Mahal\n",
              "7    213.0    Bantul        Y        3.0  Murah\n",
              "8    215.0    Bantul        Y        3.0  Murah"
            ],
            "text/html": [
              "\n",
              "  <div id=\"df-c63ec33c-c79a-45da-a960-1a986e498b3b\">\n",
              "    <div class=\"colab-df-container\">\n",
              "      <div>\n",
              "<style scoped>\n",
              "    .dataframe tbody tr th:only-of-type {\n",
              "        vertical-align: middle;\n",
              "    }\n",
              "\n",
              "    .dataframe tbody tr th {\n",
              "        vertical-align: top;\n",
              "    }\n",
              "\n",
              "    .dataframe thead th {\n",
              "        text-align: right;\n",
              "    }\n",
              "</style>\n",
              "<table border=\"1\" class=\"dataframe\">\n",
              "  <thead>\n",
              "    <tr style=\"text-align: right;\">\n",
              "      <th></th>\n",
              "      <th>KodeApt</th>\n",
              "      <th>Wilayah</th>\n",
              "      <th>St_Milik</th>\n",
              "      <th>Jum_Kamar</th>\n",
              "      <th>Label</th>\n",
              "    </tr>\n",
              "  </thead>\n",
              "  <tbody>\n",
              "    <tr>\n",
              "      <th>0</th>\n",
              "      <td>104.0</td>\n",
              "      <td>Bantul</td>\n",
              "      <td>Y</td>\n",
              "      <td>3.0</td>\n",
              "      <td>Murah</td>\n",
              "    </tr>\n",
              "    <tr>\n",
              "      <th>1</th>\n",
              "      <td>197.0</td>\n",
              "      <td>Sleman</td>\n",
              "      <td>N</td>\n",
              "      <td>3.0</td>\n",
              "      <td>Murah</td>\n",
              "    </tr>\n",
              "    <tr>\n",
              "      <th>2</th>\n",
              "      <td>8837.0</td>\n",
              "      <td>Sleman</td>\n",
              "      <td>N</td>\n",
              "      <td>3.0</td>\n",
              "      <td>Mahal</td>\n",
              "    </tr>\n",
              "    <tr>\n",
              "      <th>3</th>\n",
              "      <td>201.0</td>\n",
              "      <td>Yogya</td>\n",
              "      <td>N</td>\n",
              "      <td>1.0</td>\n",
              "      <td>Murah</td>\n",
              "    </tr>\n",
              "    <tr>\n",
              "      <th>4</th>\n",
              "      <td>203.0</td>\n",
              "      <td>Yogya</td>\n",
              "      <td>Y</td>\n",
              "      <td>3.0</td>\n",
              "      <td>Mahal</td>\n",
              "    </tr>\n",
              "    <tr>\n",
              "      <th>5</th>\n",
              "      <td>207.0</td>\n",
              "      <td>Yogya</td>\n",
              "      <td>Y</td>\n",
              "      <td>3.0</td>\n",
              "      <td>Mahal</td>\n",
              "    </tr>\n",
              "    <tr>\n",
              "      <th>6</th>\n",
              "      <td>837.0</td>\n",
              "      <td>KL-Progo</td>\n",
              "      <td>Y</td>\n",
              "      <td>2.0</td>\n",
              "      <td>Mahal</td>\n",
              "    </tr>\n",
              "    <tr>\n",
              "      <th>7</th>\n",
              "      <td>213.0</td>\n",
              "      <td>Bantul</td>\n",
              "      <td>Y</td>\n",
              "      <td>3.0</td>\n",
              "      <td>Murah</td>\n",
              "    </tr>\n",
              "    <tr>\n",
              "      <th>8</th>\n",
              "      <td>215.0</td>\n",
              "      <td>Bantul</td>\n",
              "      <td>Y</td>\n",
              "      <td>3.0</td>\n",
              "      <td>Murah</td>\n",
              "    </tr>\n",
              "  </tbody>\n",
              "</table>\n",
              "</div>\n",
              "      <button class=\"colab-df-convert\" onclick=\"convertToInteractive('df-c63ec33c-c79a-45da-a960-1a986e498b3b')\"\n",
              "              title=\"Convert this dataframe to an interactive table.\"\n",
              "              style=\"display:none;\">\n",
              "        \n",
              "  <svg xmlns=\"http://www.w3.org/2000/svg\" height=\"24px\"viewBox=\"0 0 24 24\"\n",
              "       width=\"24px\">\n",
              "    <path d=\"M0 0h24v24H0V0z\" fill=\"none\"/>\n",
              "    <path d=\"M18.56 5.44l.94 2.06.94-2.06 2.06-.94-2.06-.94-.94-2.06-.94 2.06-2.06.94zm-11 1L8.5 8.5l.94-2.06 2.06-.94-2.06-.94L8.5 2.5l-.94 2.06-2.06.94zm10 10l.94 2.06.94-2.06 2.06-.94-2.06-.94-.94-2.06-.94 2.06-2.06.94z\"/><path d=\"M17.41 7.96l-1.37-1.37c-.4-.4-.92-.59-1.43-.59-.52 0-1.04.2-1.43.59L10.3 9.45l-7.72 7.72c-.78.78-.78 2.05 0 2.83L4 21.41c.39.39.9.59 1.41.59.51 0 1.02-.2 1.41-.59l7.78-7.78 2.81-2.81c.8-.78.8-2.07 0-2.86zM5.41 20L4 18.59l7.72-7.72 1.47 1.35L5.41 20z\"/>\n",
              "  </svg>\n",
              "      </button>\n",
              "      \n",
              "  <style>\n",
              "    .colab-df-container {\n",
              "      display:flex;\n",
              "      flex-wrap:wrap;\n",
              "      gap: 12px;\n",
              "    }\n",
              "\n",
              "    .colab-df-convert {\n",
              "      background-color: #E8F0FE;\n",
              "      border: none;\n",
              "      border-radius: 50%;\n",
              "      cursor: pointer;\n",
              "      display: none;\n",
              "      fill: #1967D2;\n",
              "      height: 32px;\n",
              "      padding: 0 0 0 0;\n",
              "      width: 32px;\n",
              "    }\n",
              "\n",
              "    .colab-df-convert:hover {\n",
              "      background-color: #E2EBFA;\n",
              "      box-shadow: 0px 1px 2px rgba(60, 64, 67, 0.3), 0px 1px 3px 1px rgba(60, 64, 67, 0.15);\n",
              "      fill: #174EA6;\n",
              "    }\n",
              "\n",
              "    [theme=dark] .colab-df-convert {\n",
              "      background-color: #3B4455;\n",
              "      fill: #D2E3FC;\n",
              "    }\n",
              "\n",
              "    [theme=dark] .colab-df-convert:hover {\n",
              "      background-color: #434B5C;\n",
              "      box-shadow: 0px 1px 3px 1px rgba(0, 0, 0, 0.15);\n",
              "      filter: drop-shadow(0px 1px 2px rgba(0, 0, 0, 0.3));\n",
              "      fill: #FFFFFF;\n",
              "    }\n",
              "  </style>\n",
              "\n",
              "      <script>\n",
              "        const buttonEl =\n",
              "          document.querySelector('#df-c63ec33c-c79a-45da-a960-1a986e498b3b button.colab-df-convert');\n",
              "        buttonEl.style.display =\n",
              "          google.colab.kernel.accessAllowed ? 'block' : 'none';\n",
              "\n",
              "        async function convertToInteractive(key) {\n",
              "          const element = document.querySelector('#df-c63ec33c-c79a-45da-a960-1a986e498b3b');\n",
              "          const dataTable =\n",
              "            await google.colab.kernel.invokeFunction('convertToInteractive',\n",
              "                                                     [key], {});\n",
              "          if (!dataTable) return;\n",
              "\n",
              "          const docLinkHtml = 'Like what you see? Visit the ' +\n",
              "            '<a target=\"_blank\" href=https://colab.research.google.com/notebooks/data_table.ipynb>data table notebook</a>'\n",
              "            + ' to learn more about interactive tables.';\n",
              "          element.innerHTML = '';\n",
              "          dataTable['output_type'] = 'display_data';\n",
              "          await google.colab.output.renderOutput(dataTable, element);\n",
              "          const docLink = document.createElement('div');\n",
              "          docLink.innerHTML = docLinkHtml;\n",
              "          element.appendChild(docLink);\n",
              "        }\n",
              "      </script>\n",
              "    </div>\n",
              "  </div>\n",
              "  "
            ]
          },
          "metadata": {},
          "execution_count": 2
        }
      ]
    },
    {
      "cell_type": "code",
      "source": [
        "print(df.describe())"
      ],
      "metadata": {
        "colab": {
          "base_uri": "https://localhost:8080/"
        },
        "id": "Ej_jWCMnShYH",
        "outputId": "95b08eb3-620c-41b6-ad63-beadbf615cec"
      },
      "execution_count": null,
      "outputs": [
        {
          "output_type": "stream",
          "name": "stdout",
          "text": [
            "           KodeApt  Jum_Kamar\n",
            "count     9.000000   9.000000\n",
            "mean   1223.777778   2.666667\n",
            "std    2863.130445   0.707107\n",
            "min     104.000000   1.000000\n",
            "25%     201.000000   3.000000\n",
            "50%     207.000000   3.000000\n",
            "75%     215.000000   3.000000\n",
            "max    8837.000000   3.000000\n"
          ]
        }
      ]
    },
    {
      "cell_type": "code",
      "source": [
        "#mengeksplore lebih dalam untuk atribut wilayah tipe kategori\n",
        "df.Wilayah.unique()\n",
        "valueCount= df.Wilayah.value_counts()\n",
        "valueCount"
      ],
      "metadata": {
        "colab": {
          "base_uri": "https://localhost:8080/"
        },
        "id": "WvMz1OkZSrPw",
        "outputId": "22c49b2f-a747-4e92-f493-81784c06587f"
      },
      "execution_count": null,
      "outputs": [
        {
          "output_type": "execute_result",
          "data": {
            "text/plain": [
              "Bantul      3\n",
              "Yogya       3\n",
              "Sleman      2\n",
              "KL-Progo    1\n",
              "Name: Wilayah, dtype: int64"
            ]
          },
          "metadata": {},
          "execution_count": 4
        }
      ]
    },
    {
      "cell_type": "code",
      "source": [
        "#visualisasi dalam diagram batang kolom wilayah\n",
        "import seaborn as sns\n",
        "sns.set(style=\"darkgrid\")\n",
        "# ax = sns.countplot(x=\"Wilayah\",data=df)\n",
        "ax2 = sns.countplot(x=\"Label\",data=df)\n",
        "\n"
      ],
      "metadata": {
        "colab": {
          "base_uri": "https://localhost:8080/",
          "height": 285
        },
        "id": "vAJy09WzS-RJ",
        "outputId": "192e50cb-6293-47a4-9379-44065c6fcc91"
      },
      "execution_count": null,
      "outputs": [
        {
          "output_type": "display_data",
          "data": {
            "text/plain": [
              "<Figure size 432x288 with 1 Axes>"
            ],
            "image/png": "[encoded data removed]"
          },
          "metadata": {}
        }
      ]
    },
    {
      "cell_type": "code",
      "source": [
        "import matplotlib.pyplot as plt\n",
        "plt.figure(figsize=(5,5))\n",
        "\n",
        "#total = float (len(df[\"label\"]))\n",
        "\n",
        "ax = sns.countplot(x=\"Wilayah\",data =df)\n",
        "for p in ax.patches:\n",
        "  height = p.get_height()\n",
        "  ax.text(p.get_x()+p.get_width()/2.,\n",
        "          height,'{:1.0f}'.format((height)),ha=\"center\")\n",
        "plt.show()\n",
        "\n"
      ],
      "metadata": {
        "colab": {
          "base_uri": "https://localhost:8080/",
          "height": 339
        },
        "id": "89OI2q_ATNT3",
        "outputId": "6bdadb64-6872-4b1b-d36f-306c50c0991c"
      },
      "execution_count": null,
      "outputs": [
        {
          "output_type": "display_data",
          "data": {
            "text/plain": [
              "<Figure size 360x360 with 1 Axes>"
            ],
            "image/png": "[encoded data removed]"
          },
          "metadata": {}
        }
      ]
    },
    {
      "cell_type": "code",
      "source": [
        "#menampilkan histogram untuk semua atribut numerik\n",
        "\n",
        "import matplotlib\n",
        "import matplotlib.pyplot as plt\n",
        "\n",
        "numerik_df = df.select_dtypes(include=[\"float64\"])\n",
        "numerik_index= numerik_df.columns\n",
        "numerik_index\n",
        "df.hist(column=numerik_index,figsize=(10,20),layout=(5,1))\n",
        "plt.show()"
      ],
      "metadata": {
        "colab": {
          "base_uri": "https://localhost:8080/",
          "height": 470
        },
        "id": "6vq2dLeHUUto",
        "outputId": "f84ce4c3-32dd-4228-c349-14e949b5374e"
      },
      "execution_count": null,
      "outputs": [
        {
          "output_type": "display_data",
          "data": {
            "text/plain": [
              "<Figure size 720x1440 with 5 Axes>"
            ],
            "image/png": "[encoded data removed]"
          },
          "metadata": {}
        }
      ]
    },
    {
      "cell_type": "code",
      "source": [
        "#menampilkan histogram untuk atribut numerik tertentu\n",
        "\n",
        "import matplotlib\n",
        "import matplotlib.pyplot as plt\n",
        "\n",
        "numerik_df = [\"KodeApt\"]\n",
        "numerik_index= numerik_df\n",
        "numerik_index\n",
        "df.hist(column=numerik_index,figsize=(10,20),layout=(5,1))\n",
        "print\n",
        "plt.show()\n"
      ],
      "metadata": {
        "colab": {
          "base_uri": "https://localhost:8080/",
          "height": 242
        },
        "id": "qI3AZD60WW3h",
        "outputId": "723e7b82-6fe8-4c73-bfb9-02ebaea1237c"
      },
      "execution_count": null,
      "outputs": [
        {
          "output_type": "display_data",
          "data": {
            "text/plain": [
              "<Figure size 720x1440 with 5 Axes>"
            ],
            "image/png": "[encoded data removed]"
          },
          "metadata": {}
        }
      ]
    },
    {
      "cell_type": "code",
      "source": [],
      "metadata": {
        "id": "hIwpwEkQmEGk"
      },
      "execution_count": null,
      "outputs": []
    },
    {
      "cell_type": "code",
      "source": [
        "#boxplot with mathplotlib,melihat outlier yang dapat terjadi misalnya karena kesalahan ketik\n",
        "plt.boxplot(df.KodeApt)\n",
        "plt.plot()"
      ],
      "metadata": {
        "colab": {
          "base_uri": "https://localhost:8080/",
          "height": 285
        },
        "id": "dmvFCAi-WwN5",
        "outputId": "a5b64a29-8c96-4ca1-bf10-4afa58c46694"
      },
      "execution_count": null,
      "outputs": [
        {
          "output_type": "execute_result",
          "data": {
            "text/plain": [
              "[]"
            ]
          },
          "metadata": {},
          "execution_count": 9
        },
        {
          "output_type": "display_data",
          "data": {
            "text/plain": [
              "<Figure size 432x288 with 1 Axes>"
            ],
            "image/png": "[encoded data removed]"
          },
          "metadata": {}
        }
      ]
    },
    {
      "cell_type": "markdown",
      "source": [
        "#nilai rata-rata atribut independen\n"
      ],
      "metadata": {
        "id": "ux2A1ommbKqE"
      }
    },
    {
      "cell_type": "markdown",
      "source": [
        "#pie diagram"
      ],
      "metadata": {
        "id": "mODsA0xGZMgC"
      }
    },
    {
      "cell_type": "code",
      "source": [
        "import seaborn as sns\n",
        "import matplotlib.pyplot as plt\n",
        "\n",
        "#mendefinisikan data\n",
        "data =valueCount\n",
        "labels = data.keys()\n",
        "\n",
        "#define seaborn color palete to use\n",
        "colors =sns.color_palette('pastel')[0:5]\n",
        "\n",
        "#membuat pie diagram\n",
        "plt.pie(data,labels=labels,colors=colors,autopct='%.0f%%')\n",
        "plt.show()"
      ],
      "metadata": {
        "colab": {
          "base_uri": "https://localhost:8080/",
          "height": 248
        },
        "id": "Ds5zIHlcZT98",
        "outputId": "0e3b3302-e03f-48ba-8b62-8d9571882094"
      },
      "execution_count": null,
      "outputs": [
        {
          "output_type": "display_data",
          "data": {
            "text/plain": [
              "<Figure size 432x288 with 1 Axes>"
            ],
            "image/png": "[encoded data removed]"
          },
          "metadata": {}
        }
      ]
    },
    {
      "cell_type": "code",
      "source": [
        "#menampilkan histogram dan nilai rata rata atribut independen\n",
        "\n",
        "import matplotlib\n",
        "import matplotlib.pyplot as plt\n",
        "\n",
        "numerik_df = df.select_dtypes(include=['float64'])\n",
        "numerik_index= numerik_df.columns\n",
        "numerik_index\n",
        "df.hist(column=numerik_index,figsize=(10,20),layout=(5,1))\n",
        "\n",
        "print(numerik_df.loc[:,numerik_index].mean)\n",
        "plt.show()\n"
      ],
      "metadata": {
        "colab": {
          "base_uri": "https://localhost:8080/",
          "height": 664
        },
        "id": "5DHKmmHdXs-1",
        "outputId": "2a175216-1b90-405b-e68b-e806b4453aec"
      },
      "execution_count": null,
      "outputs": [
        {
          "output_type": "stream",
          "name": "stdout",
          "text": [
            "<bound method NDFrame._add_numeric_operations.<locals>.mean of    KodeApt  Jum_Kamar\n",
            "0    104.0        3.0\n",
            "1    197.0        3.0\n",
            "2   8837.0        3.0\n",
            "3    201.0        1.0\n",
            "4    203.0        3.0\n",
            "5    207.0        3.0\n",
            "6    837.0        2.0\n",
            "7    213.0        3.0\n",
            "8    215.0        3.0>\n"
          ]
        },
        {
          "output_type": "display_data",
          "data": {
            "text/plain": [
              "<Figure size 720x1440 with 5 Axes>"
            ],
            "image/png": "[encoded data removed]"
          },
          "metadata": {}
        }
      ]
    }
  ]
}