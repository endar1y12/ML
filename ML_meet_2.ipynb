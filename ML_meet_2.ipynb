{
  "cells": [
    {
      "cell_type": "markdown",
      "metadata": {
        "id": "view-in-github",
        "colab_type": "text"
      },
      "source": [
        "<a href=\"https://colab.research.google.com/github/endar1y12/ML/blob/main/ML_meet_2.ipynb\" target=\"_parent\"><img src=\"https://colab.research.google.com/assets/colab-badge.svg\" alt=\"Open In Colab\"/></a>"
      ]
    },
    {
      "cell_type": "code",
      "execution_count": null,
      "metadata": {
        "id": "Ll8mgqrKK4q6",
        "outputId": "5b159c0a-b828-4607-a35c-614f3dc56309",
        "colab": {
          "base_uri": "https://localhost:8080/"
        }
      },
      "outputs": [
        {
          "output_type": "stream",
          "name": "stdout",
          "text": [
            "   KodeApt   Wilayah St_Milik Jum_Kamar\n",
            "0    104.0    Bantul        Y         3\n",
            "1    197.0    Sleman        N         3\n",
            "2      NaN    Sleman        N       NaN\n",
            "3    201.0     Yogya       12         1\n",
            "4    203.0     Yogya        Y         3\n",
            "5    207.0     Yogya        Y       NaN\n",
            "6      NaN  KL-Progo      NaN         2\n",
            "7    213.0    Bantul        Y        --\n",
            "8    215.0    Bantul        Y       NaN\n"
          ]
        }
      ],
      "source": [
        "#liberaries\n",
        "import pandas as pd\n",
        "import numpy as np\n",
        "\n",
        "#baca fil dataset\n",
        "df =pd.read_csv(\"apartemen.csv\")\n",
        "\n",
        "#melihat semua isi data\n",
        "print(df)"
      ]
    },
    {
      "cell_type": "code",
      "execution_count": null,
      "metadata": {
        "id": "hD7QQ7TORcY6",
        "outputId": "bb4a8ab4-bd41-4bea-a76d-e60742852680",
        "colab": {
          "base_uri": "https://localhost:8080/"
        }
      },
      "outputs": [
        {
          "output_type": "execute_result",
          "data": {
            "text/plain": [
              "True"
            ]
          },
          "metadata": {},
          "execution_count": 2
        }
      ],
      "source": [
        "#cek ada missing value\n",
        "df.isnull().values.any()"
      ]
    },
    {
      "cell_type": "code",
      "execution_count": null,
      "metadata": {
        "id": "dLywjTurRjhS",
        "outputId": "28e25447-214a-4f93-d869-89c1dc8f1c3e",
        "colab": {
          "base_uri": "https://localhost:8080/"
        }
      },
      "outputs": [
        {
          "output_type": "execute_result",
          "data": {
            "text/plain": [
              "KodeApt      2\n",
              "Wilayah      0\n",
              "St_Milik     1\n",
              "Jum_Kamar    3\n",
              "dtype: int64"
            ]
          },
          "metadata": {},
          "execution_count": 3
        }
      ],
      "source": [
        "#banyak missing value\n",
        "df.isnull().sum()"
      ]
    },
    {
      "cell_type": "code",
      "execution_count": null,
      "metadata": {
        "id": "mtfiGelvYcHY",
        "outputId": "df2c9d5e-a85c-4075-daca-0045ab865521",
        "colab": {
          "base_uri": "https://localhost:8080/"
        }
      },
      "outputs": [
        {
          "output_type": "execute_result",
          "data": {
            "text/plain": [
              "6"
            ]
          },
          "metadata": {},
          "execution_count": 4
        }
      ],
      "source": [
        "#banyak missing value\n",
        "df.isnull().sum().sum()"
      ]
    },
    {
      "cell_type": "code",
      "execution_count": null,
      "metadata": {
        "id": "A3P2iPIgTH-q",
        "outputId": "e0b1ad2d-c5eb-47df-ba46-487c474c6be8",
        "colab": {
          "base_uri": "https://localhost:8080/"
        }
      },
      "outputs": [
        {
          "output_type": "execute_result",
          "data": {
            "text/plain": [
              "0    104.0\n",
              "1    197.0\n",
              "2      NaN\n",
              "3    201.0\n",
              "4    203.0\n",
              "5    207.0\n",
              "6      NaN\n",
              "7    213.0\n",
              "8    215.0\n",
              "Name: KodeApt, dtype: float64"
            ]
          },
          "metadata": {},
          "execution_count": 5
        }
      ],
      "source": [
        "#melihat kolom kode\n",
        "df['KodeApt']"
      ]
    },
    {
      "cell_type": "code",
      "execution_count": null,
      "metadata": {
        "id": "IaOTk4cVT0wv",
        "outputId": "f489d4a4-9e9f-412c-ba4e-b251be1dcb72",
        "colab": {
          "base_uri": "https://localhost:8080/"
        }
      },
      "outputs": [
        {
          "output_type": "execute_result",
          "data": {
            "text/plain": [
              "0    False\n",
              "1    False\n",
              "2     True\n",
              "3    False\n",
              "4    False\n",
              "5    False\n",
              "6     True\n",
              "7    False\n",
              "8    False\n",
              "Name: KodeApt, dtype: bool"
            ]
          },
          "metadata": {},
          "execution_count": 6
        }
      ],
      "source": [
        "#mengecek nilai boolean kodeApt\n",
        "df['KodeApt'].isnull()"
      ]
    },
    {
      "cell_type": "code",
      "execution_count": null,
      "metadata": {
        "id": "_roByERDT2_1",
        "outputId": "e3fb0281-de12-42c3-8d71-f96826cc74c4",
        "colab": {
          "base_uri": "https://localhost:8080/"
        }
      },
      "outputs": [
        {
          "output_type": "execute_result",
          "data": {
            "text/plain": [
              "0      3\n",
              "1      3\n",
              "2    NaN\n",
              "3      1\n",
              "4      3\n",
              "5    NaN\n",
              "6      2\n",
              "7     --\n",
              "8    NaN\n",
              "Name: Jum_Kamar, dtype: object"
            ]
          },
          "metadata": {},
          "execution_count": 7
        }
      ],
      "source": [
        "#melihat kolom Jumlah kamar\n",
        "df['Jum_Kamar']"
      ]
    },
    {
      "cell_type": "code",
      "execution_count": null,
      "metadata": {
        "id": "y0qAZMkNUBSN",
        "colab": {
          "base_uri": "https://localhost:8080/"
        },
        "outputId": "975d1ca7-4e4e-4bb4-db1a-493a406ee369"
      },
      "outputs": [
        {
          "output_type": "execute_result",
          "data": {
            "text/plain": [
              "0    False\n",
              "1    False\n",
              "2     True\n",
              "3    False\n",
              "4    False\n",
              "5     True\n",
              "6    False\n",
              "7    False\n",
              "8     True\n",
              "Name: Jum_Kamar, dtype: bool"
            ]
          },
          "metadata": {},
          "execution_count": 8
        }
      ],
      "source": [
        "\n",
        "df['Jum_Kamar'].isnull()"
      ]
    },
    {
      "cell_type": "code",
      "execution_count": null,
      "metadata": {
        "id": "VvdJ-7nQUQxK",
        "colab": {
          "base_uri": "https://localhost:8080/"
        },
        "outputId": "1eb045f3-fe4c-4fc8-cccf-5becb733bfe7"
      },
      "outputs": [
        {
          "output_type": "execute_result",
          "data": {
            "text/plain": [
              "0    3.0\n",
              "1    3.0\n",
              "2    NaN\n",
              "3    1.0\n",
              "4    3.0\n",
              "5    NaN\n",
              "6    2.0\n",
              "7    NaN\n",
              "8    NaN\n",
              "Name: Jum_Kamar, dtype: float64"
            ]
          },
          "metadata": {},
          "execution_count": 9
        }
      ],
      "source": [
        "#membuat daftar missing vale\n",
        "missing_value = [\"n/a\",\"na\",\"--\"]\n",
        "df = pd.read_csv(\"apartemen.csv\",na_values = missing_value)\n",
        "\n",
        "df['Jum_Kamar']"
      ]
    },
    {
      "cell_type": "code",
      "execution_count": null,
      "metadata": {
        "id": "xQVObTatbGnV",
        "colab": {
          "base_uri": "https://localhost:8080/"
        },
        "outputId": "d45eac33-2d37-44ca-9773-2e70a323c687"
      },
      "outputs": [
        {
          "output_type": "execute_result",
          "data": {
            "text/plain": [
              "0    False\n",
              "1    False\n",
              "2     True\n",
              "3    False\n",
              "4    False\n",
              "5     True\n",
              "6    False\n",
              "7     True\n",
              "8     True\n",
              "Name: Jum_Kamar, dtype: bool"
            ]
          },
          "metadata": {},
          "execution_count": 10
        }
      ],
      "source": [
        "\n",
        "df['Jum_Kamar'].isnull()"
      ]
    },
    {
      "cell_type": "code",
      "execution_count": null,
      "metadata": {
        "id": "Y_ctug2ibLlk",
        "colab": {
          "base_uri": "https://localhost:8080/"
        },
        "outputId": "888b2daa-8d26-4d27-d598-6b7dd87550e4"
      },
      "outputs": [
        {
          "output_type": "execute_result",
          "data": {
            "text/plain": [
              "0      Y\n",
              "1      N\n",
              "2      N\n",
              "3     12\n",
              "4      Y\n",
              "5      Y\n",
              "6    NaN\n",
              "7      Y\n",
              "8      Y\n",
              "Name: St_Milik, dtype: object"
            ]
          },
          "metadata": {},
          "execution_count": 11
        }
      ],
      "source": [
        "\n",
        "df['St_Milik']"
      ]
    },
    {
      "cell_type": "code",
      "execution_count": null,
      "metadata": {
        "id": "99Jhs-upbU9D",
        "colab": {
          "base_uri": "https://localhost:8080/"
        },
        "outputId": "94c475f8-abc7-4346-f30b-a49fff6060c6"
      },
      "outputs": [
        {
          "output_type": "execute_result",
          "data": {
            "text/plain": [
              "0    False\n",
              "1    False\n",
              "2    False\n",
              "3    False\n",
              "4    False\n",
              "5    False\n",
              "6     True\n",
              "7    False\n",
              "8    False\n",
              "Name: St_Milik, dtype: bool"
            ]
          },
          "metadata": {},
          "execution_count": 12
        }
      ],
      "source": [
        "\n",
        "df['St_Milik'].isnull()"
      ]
    },
    {
      "cell_type": "code",
      "execution_count": null,
      "metadata": {
        "id": "jpMS6JKDbSMK",
        "colab": {
          "base_uri": "https://localhost:8080/"
        },
        "outputId": "71c15e49-ebcc-41d5-cd64-1d2f90e4f08c"
      },
      "outputs": [
        {
          "output_type": "execute_result",
          "data": {
            "text/plain": [
              "0      Y\n",
              "1      N\n",
              "2      N\n",
              "3    NaN\n",
              "4      Y\n",
              "5      Y\n",
              "6    NaN\n",
              "7      Y\n",
              "8      Y\n",
              "Name: St_Milik, dtype: object"
            ]
          },
          "metadata": {},
          "execution_count": 13
        }
      ],
      "source": [
        "#mendeteksi angka\n",
        "cnt=0\n",
        "for i in df['St_Milik']:\n",
        "  try:\n",
        "    df['St_Milik'].isnull()\n",
        "    int(i)\n",
        "    df.loc[cnt,'St_Milik']= np.nan\n",
        "  except ValueError:\n",
        "    pass\n",
        "  cnt+=1\n",
        "\n",
        "df['St_Milik']"
      ]
    },
    {
      "cell_type": "code",
      "execution_count": null,
      "metadata": {
        "id": "3FHBid4RdYVz",
        "colab": {
          "base_uri": "https://localhost:8080/"
        },
        "outputId": "98430a4d-5989-484d-9923-e453846624fb"
      },
      "outputs": [
        {
          "output_type": "execute_result",
          "data": {
            "text/plain": [
              "0    False\n",
              "1    False\n",
              "2    False\n",
              "3     True\n",
              "4    False\n",
              "5    False\n",
              "6     True\n",
              "7    False\n",
              "8    False\n",
              "Name: St_Milik, dtype: bool"
            ]
          },
          "metadata": {},
          "execution_count": 14
        }
      ],
      "source": [
        "\n",
        "df['St_Milik'].isnull()"
      ]
    },
    {
      "cell_type": "code",
      "execution_count": null,
      "metadata": {
        "id": "0-_pRTCjdobi",
        "colab": {
          "base_uri": "https://localhost:8080/"
        },
        "outputId": "01e791ba-e8db-41a3-af76-a5a7f385a877"
      },
      "outputs": [
        {
          "output_type": "execute_result",
          "data": {
            "text/plain": [
              "KodeApt      2\n",
              "Wilayah      0\n",
              "St_Milik     2\n",
              "Jum_Kamar    4\n",
              "dtype: int64"
            ]
          },
          "metadata": {},
          "execution_count": 15
        }
      ],
      "source": [
        "#total missing values setiap kolom\n",
        "df.isnull().sum()"
      ]
    },
    {
      "cell_type": "code",
      "execution_count": null,
      "metadata": {
        "id": "km2wdSI348An",
        "colab": {
          "base_uri": "https://localhost:8080/"
        },
        "outputId": "b3d804d7-0c49-41d9-b19b-86b63c647a78"
      },
      "outputs": [
        {
          "output_type": "execute_result",
          "data": {
            "text/plain": [
              "8"
            ]
          },
          "metadata": {},
          "execution_count": 16
        }
      ],
      "source": [
        "#banyak nya missing values\n",
        "df.isnull().sum().sum()"
      ]
    },
    {
      "cell_type": "code",
      "execution_count": null,
      "metadata": {
        "id": "bxRSzbu8d0B5",
        "colab": {
          "base_uri": "https://localhost:8080/"
        },
        "outputId": "3d7b6acb-4872-4630-d054-989fc820b05d"
      },
      "outputs": [
        {
          "output_type": "stream",
          "name": "stdout",
          "text": [
            "0    104.0\n",
            "1    197.0\n",
            "2    837.0\n",
            "3    201.0\n",
            "4    203.0\n",
            "5    207.0\n",
            "6    837.0\n",
            "7    213.0\n",
            "8    215.0\n",
            "Name: KodeApt, dtype: float64\n"
          ]
        }
      ],
      "source": [
        "#mengganti missing values dengan sebuah angka\n",
        "df['KodeApt'].fillna(837, inplace= True)\n",
        "print(df.KodeApt)"
      ]
    },
    {
      "cell_type": "code",
      "execution_count": null,
      "metadata": {
        "id": "pjXA5oL1eGSh",
        "colab": {
          "base_uri": "https://localhost:8080/"
        },
        "outputId": "3ca1d02c-85a9-44fb-d750-740b2013c9cc"
      },
      "outputs": [
        {
          "output_type": "stream",
          "name": "stdout",
          "text": [
            "0     104.0\n",
            "1     197.0\n",
            "2    8837.0\n",
            "3     201.0\n",
            "4     203.0\n",
            "5     207.0\n",
            "6     837.0\n",
            "7     213.0\n",
            "8     215.0\n",
            "Name: KodeApt, dtype: float64\n"
          ]
        }
      ],
      "source": [
        "#mengganti pada lokasi spesifik\n",
        "df.loc[2,'KodeApt'] = 8837\n",
        "print(df.KodeApt)"
      ]
    },
    {
      "cell_type": "code",
      "execution_count": null,
      "metadata": {
        "id": "YscL3WV7eSdI",
        "colab": {
          "base_uri": "https://localhost:8080/"
        },
        "outputId": "6bd122a9-1781-4b6d-b12b-13e177926c9f"
      },
      "outputs": [
        {
          "output_type": "stream",
          "name": "stdout",
          "text": [
            "0    3.0\n",
            "1    3.0\n",
            "2    3.0\n",
            "3    1.0\n",
            "4    3.0\n",
            "5    3.0\n",
            "6    2.0\n",
            "7    3.0\n",
            "8    3.0\n",
            "Name: Jum_Kamar, dtype: float64\n"
          ]
        }
      ],
      "source": [
        "#mengganti missing values dengan median\n",
        "median = df['Jum_Kamar'].median()\n",
        "df['Jum_Kamar'].fillna(median, inplace=True)\n",
        "\n",
        "print(df.Jum_Kamar)"
      ]
    },
    {
      "cell_type": "code",
      "execution_count": null,
      "metadata": {
        "id": "DvI_BHjP8rki",
        "colab": {
          "base_uri": "https://localhost:8080/"
        },
        "outputId": "50501275-451f-496d-b299-6f3a3c8ce5d2"
      },
      "outputs": [
        {
          "output_type": "stream",
          "name": "stdout",
          "text": [
            "   KodeApt   Wilayah St_Milik  Jum_Kamar\n",
            "0    104.0    Bantul        Y        3.0\n",
            "1    197.0    Sleman        N        3.0\n",
            "2   8837.0    Sleman        N        3.0\n",
            "3    201.0     Yogya      NaN        1.0\n",
            "4    203.0     Yogya        Y        3.0\n",
            "5    207.0     Yogya        Y        3.0\n",
            "6    837.0  KL-Progo      NaN        2.0\n",
            "7    213.0    Bantul        Y        3.0\n",
            "8    215.0    Bantul        Y        3.0\n"
          ]
        }
      ],
      "source": [
        "#melihat semua data\n",
        "print(df)"
      ]
    },
    {
      "cell_type": "code",
      "execution_count": null,
      "metadata": {
        "id": "nOukI8h28098",
        "colab": {
          "base_uri": "https://localhost:8080/"
        },
        "outputId": "15c04245-2250-4d1c-e3c7-c971eb64bfbb"
      },
      "outputs": [
        {
          "output_type": "stream",
          "name": "stdout",
          "text": [
            "0    Y\n",
            "1    N\n",
            "2    N\n",
            "3    N\n",
            "4    Y\n",
            "5    Y\n",
            "6    Y\n",
            "7    Y\n",
            "8    Y\n",
            "Name: St_Milik, dtype: object\n"
          ]
        }
      ],
      "source": [
        "#mengganti pada lokasi spesifik kolom St_milik\n",
        "df.loc[3,'St_Milik']='N'\n",
        "df.loc[6,'St_Milik']='Y'\n",
        "print(df.St_Milik)"
      ]
    },
    {
      "cell_type": "code",
      "execution_count": null,
      "metadata": {
        "id": "pTNkiALb9V1p",
        "colab": {
          "base_uri": "https://localhost:8080/"
        },
        "outputId": "7ce8b406-23f6-4022-c52d-28f0ed9f5caa"
      },
      "outputs": [
        {
          "output_type": "stream",
          "name": "stdout",
          "text": [
            "   KodeApt   Wilayah St_Milik  Jum_Kamar\n",
            "0    104.0    Bantul        Y        3.0\n",
            "1    197.0    Sleman        N        3.0\n",
            "2   8837.0    Sleman        N        3.0\n",
            "3    201.0     Yogya        N        1.0\n",
            "4    203.0     Yogya        Y        3.0\n",
            "5    207.0     Yogya        Y        3.0\n",
            "6    837.0  KL-Progo        Y        2.0\n",
            "7    213.0    Bantul        Y        3.0\n",
            "8    215.0    Bantul        Y        3.0\n"
          ]
        }
      ],
      "source": [
        "print(df)"
      ]
    },
    {
      "cell_type": "code",
      "execution_count": null,
      "metadata": {
        "id": "_mVJKafp9Zbg"
      },
      "outputs": [],
      "source": [
        "#menyimpan data\n",
        "df.to_csv('apartemen_ok.csv',header = True,index = False)\n"
      ]
    },
    {
      "cell_type": "code",
      "execution_count": null,
      "metadata": {
        "id": "rokOUJd_9n0u",
        "colab": {
          "base_uri": "https://localhost:8080/",
          "height": 505
        },
        "outputId": "adc4588d-0adf-462b-d1ac-15e0836d6e25"
      },
      "outputs": [
        {
          "output_type": "stream",
          "name": "stdout",
          "text": [
            "   KodeApt   Wilayah St_Milik  Jum_Kamar\n",
            "0    104.0    Bantul        Y        3.0\n",
            "1    197.0    Sleman        N        3.0\n",
            "2   8837.0    Sleman        N        3.0\n",
            "3    201.0     Yogya        N        1.0\n",
            "4    203.0     Yogya        Y        3.0\n",
            "5    207.0     Yogya        Y        3.0\n",
            "6    837.0  KL-Progo        Y        2.0\n",
            "7    213.0    Bantul        Y        3.0\n",
            "8    215.0    Bantul        Y        3.0\n"
          ]
        },
        {
          "output_type": "execute_result",
          "data": {
            "text/plain": [
              "   KodeApt  Wilayah  St_Milik  Jum_Kamar\n",
              "0    104.0        0         1        3.0\n",
              "1    197.0        2         0        3.0\n",
              "2   8837.0        2         0        3.0\n",
              "3    201.0        3         0        1.0\n",
              "4    203.0        3         1        3.0\n",
              "5    207.0        3         1        3.0\n",
              "6    837.0        1         1        2.0\n",
              "7    213.0        0         1        3.0\n",
              "8    215.0        0         1        3.0"
            ],
            "text/html": [
              "\n",
              "  <div id=\"df-ed28409e-5da3-48a4-b9b8-1e3551056450\">\n",
              "    <div class=\"colab-df-container\">\n",
              "      <div>\n",
              "<style scoped>\n",
              "    .dataframe tbody tr th:only-of-type {\n",
              "        vertical-align: middle;\n",
              "    }\n",
              "\n",
              "    .dataframe tbody tr th {\n",
              "        vertical-align: top;\n",
              "    }\n",
              "\n",
              "    .dataframe thead th {\n",
              "        text-align: right;\n",
              "    }\n",
              "</style>\n",
              "<table border=\"1\" class=\"dataframe\">\n",
              "  <thead>\n",
              "    <tr style=\"text-align: right;\">\n",
              "      <th></th>\n",
              "      <th>KodeApt</th>\n",
              "      <th>Wilayah</th>\n",
              "      <th>St_Milik</th>\n",
              "      <th>Jum_Kamar</th>\n",
              "    </tr>\n",
              "  </thead>\n",
              "  <tbody>\n",
              "    <tr>\n",
              "      <th>0</th>\n",
              "      <td>104.0</td>\n",
              "      <td>0</td>\n",
              "      <td>1</td>\n",
              "      <td>3.0</td>\n",
              "    </tr>\n",
              "    <tr>\n",
              "      <th>1</th>\n",
              "      <td>197.0</td>\n",
              "      <td>2</td>\n",
              "      <td>0</td>\n",
              "      <td>3.0</td>\n",
              "    </tr>\n",
              "    <tr>\n",
              "      <th>2</th>\n",
              "      <td>8837.0</td>\n",
              "      <td>2</td>\n",
              "      <td>0</td>\n",
              "      <td>3.0</td>\n",
              "    </tr>\n",
              "    <tr>\n",
              "      <th>3</th>\n",
              "      <td>201.0</td>\n",
              "      <td>3</td>\n",
              "      <td>0</td>\n",
              "      <td>1.0</td>\n",
              "    </tr>\n",
              "    <tr>\n",
              "      <th>4</th>\n",
              "      <td>203.0</td>\n",
              "      <td>3</td>\n",
              "      <td>1</td>\n",
              "      <td>3.0</td>\n",
              "    </tr>\n",
              "    <tr>\n",
              "      <th>5</th>\n",
              "      <td>207.0</td>\n",
              "      <td>3</td>\n",
              "      <td>1</td>\n",
              "      <td>3.0</td>\n",
              "    </tr>\n",
              "    <tr>\n",
              "      <th>6</th>\n",
              "      <td>837.0</td>\n",
              "      <td>1</td>\n",
              "      <td>1</td>\n",
              "      <td>2.0</td>\n",
              "    </tr>\n",
              "    <tr>\n",
              "      <th>7</th>\n",
              "      <td>213.0</td>\n",
              "      <td>0</td>\n",
              "      <td>1</td>\n",
              "      <td>3.0</td>\n",
              "    </tr>\n",
              "    <tr>\n",
              "      <th>8</th>\n",
              "      <td>215.0</td>\n",
              "      <td>0</td>\n",
              "      <td>1</td>\n",
              "      <td>3.0</td>\n",
              "    </tr>\n",
              "  </tbody>\n",
              "</table>\n",
              "</div>\n",
              "      <button class=\"colab-df-convert\" onclick=\"convertToInteractive('df-ed28409e-5da3-48a4-b9b8-1e3551056450')\"\n",
              "              title=\"Convert this dataframe to an interactive table.\"\n",
              "              style=\"display:none;\">\n",
              "        \n",
              "  <svg xmlns=\"http://www.w3.org/2000/svg\" height=\"24px\"viewBox=\"0 0 24 24\"\n",
              "       width=\"24px\">\n",
              "    <path d=\"M0 0h24v24H0V0z\" fill=\"none\"/>\n",
              "    <path d=\"M18.56 5.44l.94 2.06.94-2.06 2.06-.94-2.06-.94-.94-2.06-.94 2.06-2.06.94zm-11 1L8.5 8.5l.94-2.06 2.06-.94-2.06-.94L8.5 2.5l-.94 2.06-2.06.94zm10 10l.94 2.06.94-2.06 2.06-.94-2.06-.94-.94-2.06-.94 2.06-2.06.94z\"/><path d=\"M17.41 7.96l-1.37-1.37c-.4-.4-.92-.59-1.43-.59-.52 0-1.04.2-1.43.59L10.3 9.45l-7.72 7.72c-.78.78-.78 2.05 0 2.83L4 21.41c.39.39.9.59 1.41.59.51 0 1.02-.2 1.41-.59l7.78-7.78 2.81-2.81c.8-.78.8-2.07 0-2.86zM5.41 20L4 18.59l7.72-7.72 1.47 1.35L5.41 20z\"/>\n",
              "  </svg>\n",
              "      </button>\n",
              "      \n",
              "  <style>\n",
              "    .colab-df-container {\n",
              "      display:flex;\n",
              "      flex-wrap:wrap;\n",
              "      gap: 12px;\n",
              "    }\n",
              "\n",
              "    .colab-df-convert {\n",
              "      background-color: #E8F0FE;\n",
              "      border: none;\n",
              "      border-radius: 50%;\n",
              "      cursor: pointer;\n",
              "      display: none;\n",
              "      fill: #1967D2;\n",
              "      height: 32px;\n",
              "      padding: 0 0 0 0;\n",
              "      width: 32px;\n",
              "    }\n",
              "\n",
              "    .colab-df-convert:hover {\n",
              "      background-color: #E2EBFA;\n",
              "      box-shadow: 0px 1px 2px rgba(60, 64, 67, 0.3), 0px 1px 3px 1px rgba(60, 64, 67, 0.15);\n",
              "      fill: #174EA6;\n",
              "    }\n",
              "\n",
              "    [theme=dark] .colab-df-convert {\n",
              "      background-color: #3B4455;\n",
              "      fill: #D2E3FC;\n",
              "    }\n",
              "\n",
              "    [theme=dark] .colab-df-convert:hover {\n",
              "      background-color: #434B5C;\n",
              "      box-shadow: 0px 1px 3px 1px rgba(0, 0, 0, 0.15);\n",
              "      filter: drop-shadow(0px 1px 2px rgba(0, 0, 0, 0.3));\n",
              "      fill: #FFFFFF;\n",
              "    }\n",
              "  </style>\n",
              "\n",
              "      <script>\n",
              "        const buttonEl =\n",
              "          document.querySelector('#df-ed28409e-5da3-48a4-b9b8-1e3551056450 button.colab-df-convert');\n",
              "        buttonEl.style.display =\n",
              "          google.colab.kernel.accessAllowed ? 'block' : 'none';\n",
              "\n",
              "        async function convertToInteractive(key) {\n",
              "          const element = document.querySelector('#df-ed28409e-5da3-48a4-b9b8-1e3551056450');\n",
              "          const dataTable =\n",
              "            await google.colab.kernel.invokeFunction('convertToInteractive',\n",
              "                                                     [key], {});\n",
              "          if (!dataTable) return;\n",
              "\n",
              "          const docLinkHtml = 'Like what you see? Visit the ' +\n",
              "            '<a target=\"_blank\" href=https://colab.research.google.com/notebooks/data_table.ipynb>data table notebook</a>'\n",
              "            + ' to learn more about interactive tables.';\n",
              "          element.innerHTML = '';\n",
              "          dataTable['output_type'] = 'display_data';\n",
              "          await google.colab.output.renderOutput(dataTable, element);\n",
              "          const docLink = document.createElement('div');\n",
              "          docLink.innerHTML = docLinkHtml;\n",
              "          element.appendChild(docLink);\n",
              "        }\n",
              "      </script>\n",
              "    </div>\n",
              "  </div>\n",
              "  "
            ]
          },
          "metadata": {},
          "execution_count": 24
        }
      ],
      "source": [
        "#mengubah data ke numerik\n",
        "\n",
        "#libraries\n",
        "from sklearn.preprocessing import LabelEncoder\n",
        "from pandas import DataFrame\n",
        "import pandas as pd\n",
        "import numpy as np\n",
        "\n",
        "#membaca file dataset\n",
        "df= pd.read_csv('apartemen_ok.csv')\n",
        "\n",
        "#melihat semua isi data\n",
        "print(df)\n",
        "le = LabelEncoder()\n",
        "\n",
        "for col in df.columns.values:\n",
        "  #encoding pada variabel kategori\n",
        "  if df[col].dtypes=='object':\n",
        "    data = df[col].append(df[col])\n",
        "    le.fit(data.values)\n",
        "    df[col] = le.transform(df[col])\n",
        "\n",
        "df.head(10)\n"
      ]
    },
    {
      "cell_type": "code",
      "execution_count": null,
      "metadata": {
        "id": "ILBjHx9k_ACI"
      },
      "outputs": [],
      "source": [
        "#menyimpan data numerik\n",
        "\n",
        "df.to_csv('apartemen_num.csv',header=True,index = False)"
      ]
    }
  ],
  "metadata": {
    "colab": {
      "provenance": [],
      "authorship_tag": "ABX9TyNapN3sHIV7tkzxOIkPQfXo",
      "include_colab_link": true
    },
    "kernelspec": {
      "display_name": "Python 3",
      "name": "python3"
    },
    "language_info": {
      "name": "python"
    }
  },
  "nbformat": 4,
  "nbformat_minor": 0
}