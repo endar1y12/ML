{
  "nbformat": 4,
  "nbformat_minor": 0,
  "metadata": {
    "colab": {
      "provenance": [],
      "authorship_tag": "ABX9TyMQWrZI+K5hcjc7EtVOUJNP",
      "include_colab_link": true
    },
    "kernelspec": {
      "name": "python3",
      "display_name": "Python 3"
    },
    "language_info": {
      "name": "python"
    }
  },
  "cells": [
    {
      "cell_type": "markdown",
      "metadata": {
        "id": "view-in-github",
        "colab_type": "text"
      },
      "source": [
        "<a href=\"https://colab.research.google.com/github/endar1y12/ML/blob/main/Tugas_2.ipynb\" target=\"_parent\"><img src=\"https://colab.research.google.com/assets/colab-badge.svg\" alt=\"Open In Colab\"/></a>"
      ]
    },
    {
      "cell_type": "markdown",
      "source": [
        "\n",
        "\n",
        "NAIVE BAYES\n",
        "#Nama : Daryanti\n",
        "#NPM  : 5210411176\n",
        "#Mechine Learning G\n",
        "\n",
        "[Data](https://drive.google.com/file/d/1UN0eBg4GbC74YYl7wTEQxOWNUcb_Th2t/view?usp=drive_link)\n"
      ],
      "metadata": {
        "id": "VKX10hk_5p76"
      }
    },
    {
      "cell_type": "code",
      "execution_count": null,
      "metadata": {
        "id": "_RTXhelc-Iml",
        "colab": {
          "base_uri": "https://localhost:8080/"
        },
        "outputId": "98d7d0c5-a29e-4956-c277-da304135c5c3"
      },
      "outputs": [
        {
          "output_type": "stream",
          "name": "stdout",
          "text": [
            "     glucose  bloodpressure  diabetes\n",
            "0         40             85  Negative\n",
            "1         40             92  Negative\n",
            "2         45             63  Positive\n",
            "3         45             80  Negative\n",
            "4         40             73  Positive\n",
            "..       ...            ...       ...\n",
            "990       45             87  Negative\n",
            "991       40             83  Negative\n",
            "992       40             83  Negative\n",
            "993       40             60  Positive\n",
            "994       45             82  Negative\n",
            "\n",
            "[995 rows x 3 columns]\n"
          ]
        }
      ],
      "source": [
        "#dataset\n",
        "import pandas as pd\n",
        "\n",
        "dataku = pd.read_csv(\"/content/Data_Naive3.csv\")# data diabetes\n",
        "print(dataku)#menampilkan data yang ada di csv\n",
        "\n",
        "\n",
        "\n"
      ]
    },
    {
      "cell_type": "code",
      "source": [
        "dataku.info()"
      ],
      "metadata": {
        "id": "sbdB7PlHQrxu",
        "outputId": "09304ae3-aa9a-4f97-ade6-a39fb41c162f",
        "colab": {
          "base_uri": "https://localhost:8080/"
        }
      },
      "execution_count": null,
      "outputs": [
        {
          "output_type": "stream",
          "name": "stdout",
          "text": [
            "<class 'pandas.core.frame.DataFrame'>\n",
            "RangeIndex: 995 entries, 0 to 994\n",
            "Data columns (total 3 columns):\n",
            " #   Column         Non-Null Count  Dtype \n",
            "---  ------         --------------  ----- \n",
            " 0   glucose        995 non-null    int64 \n",
            " 1   bloodpressure  995 non-null    int64 \n",
            " 2   diabetes       995 non-null    object\n",
            "dtypes: int64(2), object(1)\n",
            "memory usage: 23.4+ KB\n"
          ]
        }
      ]
    },
    {
      "cell_type": "code",
      "source": [
        "#mengubah string ke int\n",
        "from sklearn.preprocessing import LabelEncoder #library\n",
        "le = LabelEncoder()\n",
        "\n",
        "for col in dataku.columns.values:\n",
        "  #encoding pada variabel kategori dan boolean\n",
        "  if dataku[col].dtypes=='object' or dataku[col].dtype=='bool':\n",
        "    data = dataku[col].append(dataku[col])\n",
        "    le.fit(data.values)\n",
        "    dataku[col] = le.transform(dataku[col])\n",
        "\n",
        "dataku.head(12) #menampilkan data dalam bentuk tabel dan hanya menampilkan 12 data dari 995 data yang ada\n"
      ],
      "metadata": {
        "colab": {
          "base_uri": "https://localhost:8080/",
          "height": 482
        },
        "id": "8vz-gkiZELpU",
        "outputId": "95dbcd37-0773-403e-a2a4-744c7f482ad6"
      },
      "execution_count": null,
      "outputs": [
        {
          "output_type": "stream",
          "name": "stderr",
          "text": [
            "<ipython-input-60-407a96327fab>:8: FutureWarning: The series.append method is deprecated and will be removed from pandas in a future version. Use pandas.concat instead.\n",
            "  data = dataku[col].append(dataku[col])\n"
          ]
        },
        {
          "output_type": "execute_result",
          "data": {
            "text/plain": [
              "    glucose  bloodpressure  diabetes\n",
              "0        40             85         0\n",
              "1        40             92         0\n",
              "2        45             63         1\n",
              "3        45             80         0\n",
              "4        40             73         1\n",
              "5        45             82         0\n",
              "6        40             85         0\n",
              "7        30             63         1\n",
              "8        65             65         1\n",
              "9        45             82         0\n",
              "10       35             73         1\n",
              "11       45             90         0"
            ],
            "text/html": [
              "\n",
              "  <div id=\"df-d8c6cae8-0bed-43d8-bf71-8a8144342664\">\n",
              "    <div class=\"colab-df-container\">\n",
              "      <div>\n",
              "<style scoped>\n",
              "    .dataframe tbody tr th:only-of-type {\n",
              "        vertical-align: middle;\n",
              "    }\n",
              "\n",
              "    .dataframe tbody tr th {\n",
              "        vertical-align: top;\n",
              "    }\n",
              "\n",
              "    .dataframe thead th {\n",
              "        text-align: right;\n",
              "    }\n",
              "</style>\n",
              "<table border=\"1\" class=\"dataframe\">\n",
              "  <thead>\n",
              "    <tr style=\"text-align: right;\">\n",
              "      <th></th>\n",
              "      <th>glucose</th>\n",
              "      <th>bloodpressure</th>\n",
              "      <th>diabetes</th>\n",
              "    </tr>\n",
              "  </thead>\n",
              "  <tbody>\n",
              "    <tr>\n",
              "      <th>0</th>\n",
              "      <td>40</td>\n",
              "      <td>85</td>\n",
              "      <td>0</td>\n",
              "    </tr>\n",
              "    <tr>\n",
              "      <th>1</th>\n",
              "      <td>40</td>\n",
              "      <td>92</td>\n",
              "      <td>0</td>\n",
              "    </tr>\n",
              "    <tr>\n",
              "      <th>2</th>\n",
              "      <td>45</td>\n",
              "      <td>63</td>\n",
              "      <td>1</td>\n",
              "    </tr>\n",
              "    <tr>\n",
              "      <th>3</th>\n",
              "      <td>45</td>\n",
              "      <td>80</td>\n",
              "      <td>0</td>\n",
              "    </tr>\n",
              "    <tr>\n",
              "      <th>4</th>\n",
              "      <td>40</td>\n",
              "      <td>73</td>\n",
              "      <td>1</td>\n",
              "    </tr>\n",
              "    <tr>\n",
              "      <th>5</th>\n",
              "      <td>45</td>\n",
              "      <td>82</td>\n",
              "      <td>0</td>\n",
              "    </tr>\n",
              "    <tr>\n",
              "      <th>6</th>\n",
              "      <td>40</td>\n",
              "      <td>85</td>\n",
              "      <td>0</td>\n",
              "    </tr>\n",
              "    <tr>\n",
              "      <th>7</th>\n",
              "      <td>30</td>\n",
              "      <td>63</td>\n",
              "      <td>1</td>\n",
              "    </tr>\n",
              "    <tr>\n",
              "      <th>8</th>\n",
              "      <td>65</td>\n",
              "      <td>65</td>\n",
              "      <td>1</td>\n",
              "    </tr>\n",
              "    <tr>\n",
              "      <th>9</th>\n",
              "      <td>45</td>\n",
              "      <td>82</td>\n",
              "      <td>0</td>\n",
              "    </tr>\n",
              "    <tr>\n",
              "      <th>10</th>\n",
              "      <td>35</td>\n",
              "      <td>73</td>\n",
              "      <td>1</td>\n",
              "    </tr>\n",
              "    <tr>\n",
              "      <th>11</th>\n",
              "      <td>45</td>\n",
              "      <td>90</td>\n",
              "      <td>0</td>\n",
              "    </tr>\n",
              "  </tbody>\n",
              "</table>\n",
              "</div>\n",
              "      <button class=\"colab-df-convert\" onclick=\"convertToInteractive('df-d8c6cae8-0bed-43d8-bf71-8a8144342664')\"\n",
              "              title=\"Convert this dataframe to an interactive table.\"\n",
              "              style=\"display:none;\">\n",
              "        \n",
              "  <svg xmlns=\"http://www.w3.org/2000/svg\" height=\"24px\"viewBox=\"0 0 24 24\"\n",
              "       width=\"24px\">\n",
              "    <path d=\"M0 0h24v24H0V0z\" fill=\"none\"/>\n",
              "    <path d=\"M18.56 5.44l.94 2.06.94-2.06 2.06-.94-2.06-.94-.94-2.06-.94 2.06-2.06.94zm-11 1L8.5 8.5l.94-2.06 2.06-.94-2.06-.94L8.5 2.5l-.94 2.06-2.06.94zm10 10l.94 2.06.94-2.06 2.06-.94-2.06-.94-.94-2.06-.94 2.06-2.06.94z\"/><path d=\"M17.41 7.96l-1.37-1.37c-.4-.4-.92-.59-1.43-.59-.52 0-1.04.2-1.43.59L10.3 9.45l-7.72 7.72c-.78.78-.78 2.05 0 2.83L4 21.41c.39.39.9.59 1.41.59.51 0 1.02-.2 1.41-.59l7.78-7.78 2.81-2.81c.8-.78.8-2.07 0-2.86zM5.41 20L4 18.59l7.72-7.72 1.47 1.35L5.41 20z\"/>\n",
              "  </svg>\n",
              "      </button>\n",
              "      \n",
              "  <style>\n",
              "    .colab-df-container {\n",
              "      display:flex;\n",
              "      flex-wrap:wrap;\n",
              "      gap: 12px;\n",
              "    }\n",
              "\n",
              "    .colab-df-convert {\n",
              "      background-color: #E8F0FE;\n",
              "      border: none;\n",
              "      border-radius: 50%;\n",
              "      cursor: pointer;\n",
              "      display: none;\n",
              "      fill: #1967D2;\n",
              "      height: 32px;\n",
              "      padding: 0 0 0 0;\n",
              "      width: 32px;\n",
              "    }\n",
              "\n",
              "    .colab-df-convert:hover {\n",
              "      background-color: #E2EBFA;\n",
              "      box-shadow: 0px 1px 2px rgba(60, 64, 67, 0.3), 0px 1px 3px 1px rgba(60, 64, 67, 0.15);\n",
              "      fill: #174EA6;\n",
              "    }\n",
              "\n",
              "    [theme=dark] .colab-df-convert {\n",
              "      background-color: #3B4455;\n",
              "      fill: #D2E3FC;\n",
              "    }\n",
              "\n",
              "    [theme=dark] .colab-df-convert:hover {\n",
              "      background-color: #434B5C;\n",
              "      box-shadow: 0px 1px 3px 1px rgba(0, 0, 0, 0.15);\n",
              "      filter: drop-shadow(0px 1px 2px rgba(0, 0, 0, 0.3));\n",
              "      fill: #FFFFFF;\n",
              "    }\n",
              "  </style>\n",
              "\n",
              "      <script>\n",
              "        const buttonEl =\n",
              "          document.querySelector('#df-d8c6cae8-0bed-43d8-bf71-8a8144342664 button.colab-df-convert');\n",
              "        buttonEl.style.display =\n",
              "          google.colab.kernel.accessAllowed ? 'block' : 'none';\n",
              "\n",
              "        async function convertToInteractive(key) {\n",
              "          const element = document.querySelector('#df-d8c6cae8-0bed-43d8-bf71-8a8144342664');\n",
              "          const dataTable =\n",
              "            await google.colab.kernel.invokeFunction('convertToInteractive',\n",
              "                                                     [key], {});\n",
              "          if (!dataTable) return;\n",
              "\n",
              "          const docLinkHtml = 'Like what you see? Visit the ' +\n",
              "            '<a target=\"_blank\" href=https://colab.research.google.com/notebooks/data_table.ipynb>data table notebook</a>'\n",
              "            + ' to learn more about interactive tables.';\n",
              "          element.innerHTML = '';\n",
              "          dataTable['output_type'] = 'display_data';\n",
              "          await google.colab.output.renderOutput(dataTable, element);\n",
              "          const docLink = document.createElement('div');\n",
              "          docLink.innerHTML = docLinkHtml;\n",
              "          element.appendChild(docLink);\n",
              "        }\n",
              "      </script>\n",
              "    </div>\n",
              "  </div>\n",
              "  "
            ]
          },
          "metadata": {},
          "execution_count": 60
        }
      ]
    },
    {
      "cell_type": "code",
      "source": [
        "#memisahkan fitur dan label\n",
        "\n",
        "fitur = dataku[dataku.columns[:-1]] # untuk fitur\n",
        "label= dataku[dataku.columns[-1]]  #untuk label\n",
        "print(\"\\nFitur:\\n\",fitur)\n",
        "print(\"\\nLabelx:\\n\",label)"
      ],
      "metadata": {
        "colab": {
          "base_uri": "https://localhost:8080/"
        },
        "id": "cxR35xXaE4gI",
        "outputId": "f51a2fa5-2d6a-41c7-bda9-739b59493c6f"
      },
      "execution_count": null,
      "outputs": [
        {
          "output_type": "stream",
          "name": "stdout",
          "text": [
            "\n",
            "Fitur:\n",
            "      glucose  bloodpressure\n",
            "0         40             85\n",
            "1         40             92\n",
            "2         45             63\n",
            "3         45             80\n",
            "4         40             73\n",
            "..       ...            ...\n",
            "990       45             87\n",
            "991       40             83\n",
            "992       40             83\n",
            "993       40             60\n",
            "994       45             82\n",
            "\n",
            "[995 rows x 2 columns]\n",
            "\n",
            "Labelx:\n",
            " 0      0\n",
            "1      0\n",
            "2      1\n",
            "3      0\n",
            "4      1\n",
            "      ..\n",
            "990    0\n",
            "991    0\n",
            "992    0\n",
            "993    1\n",
            "994    0\n",
            "Name: diabetes, Length: 995, dtype: int64\n"
          ]
        }
      ]
    },
    {
      "cell_type": "code",
      "source": [
        "#import gaussian naive bayes\n",
        "from sklearn.naive_bayes import GaussianNB\n",
        "\n",
        "#buat model\n",
        "model = GaussianNB()\n",
        "\n",
        "#train\n",
        "model.fit(fitur.values,label)\n",
        "\n",
        "#prediksi\n",
        "predicted = model.predict([[40,73],[45,90],[40,88],[45,82],[40,78]]) # glucose # bloodpressure\n",
        "print(\"Predicted:\",predicted)\n",
        "truelabel = [1,0,1,1,1]\n",
        "print(\"True Label\",truelabel)"
      ],
      "metadata": {
        "colab": {
          "base_uri": "https://localhost:8080/"
        },
        "id": "hQSPAvX2EP93",
        "outputId": "72caf299-60c7-42e7-a045-172af09d7782"
      },
      "execution_count": null,
      "outputs": [
        {
          "output_type": "stream",
          "name": "stdout",
          "text": [
            "Predicted: [1 0 0 0 1]\n",
            "True Label [1, 0, 1, 1, 1]\n"
          ]
        }
      ]
    },
    {
      "cell_type": "code",
      "source": [
        "from sklearn.metrics import accuracy_score,confusion_matrix\n",
        "import seaborn as sns;sns.set()\n",
        "ac = accuracy_score(label,model.predict(fitur.values))\n",
        "score = confusion_matrix(label,model.predict(fitur.values))\n",
        "\n",
        "print(ac)\n",
        "ax = sns.heatmap(score,annot=True,fmt=\"d\",cmap=\"Blues\")"
      ],
      "metadata": {
        "colab": {
          "base_uri": "https://localhost:8080/",
          "height": 452
        },
        "id": "cQ61CItxFOSn",
        "outputId": "8ad301fd-8456-433d-85f9-ed6b85b6d989"
      },
      "execution_count": null,
      "outputs": [
        {
          "output_type": "stream",
          "name": "stdout",
          "text": [
            "0.9336683417085427\n"
          ]
        },
        {
          "output_type": "display_data",
          "data": {
            "text/plain": [
              "<Figure size 640x480 with 2 Axes>"
            ],
            "image/png": "[encoded data removed]"
          },
          "metadata": {}
        }
      ]
    }
  ]
}