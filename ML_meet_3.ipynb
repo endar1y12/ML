{
  "cells": [
    {
      "cell_type": "markdown",
      "metadata": {
        "id": "view-in-github",
        "colab_type": "text"
      },
      "source": [
        "<a href=\"https://colab.research.google.com/github/endar1y12/ML/blob/main/ML_meet_3.ipynb\" target=\"_parent\"><img src=\"https://colab.research.google.com/assets/colab-badge.svg\" alt=\"Open In Colab\"/></a>"
      ]
    },
    {
      "cell_type": "code",
      "execution_count": null,
      "metadata": {
        "colab": {
          "background_save": true
        },
        "id": "1HgJ2-Wuasc9",
        "outputId": "a674f772-5614-4d95-f1c4-dbb747972369"
      },
      "outputs": [
        {
          "name": "stdout",
          "output_type": "stream",
          "text": [
            "   KodeApt  Wilayah  St_Milik  Jum_Kamar\n",
            "0    104.0        0         1        3.0\n",
            "1    197.0        2         0        3.0\n",
            "2   8837.0        2         0        3.0\n",
            "3    201.0        3         0        1.0\n",
            "4    203.0        3         1        3.0\n",
            "5    207.0        3         1        3.0\n",
            "6    837.0        1         1        2.0\n",
            "7    213.0        0         1        3.0\n",
            "8    215.0        0         1        3.0\n"
          ]
        }
      ],
      "source": [
        "from sklearn.preprocessing import MinMaxScaler\n",
        "from sklearn.preprocessing import LabelEncoder\n",
        "from pandas import DataFrame\n",
        "import pandas as pd\n",
        "import numpy as np\n",
        "\n",
        "#baca file dataset\n",
        "df = pd.read_csv(\"apartemen_num.csv\")\n",
        "print(df)"
      ]
    },
    {
      "cell_type": "code",
      "execution_count": null,
      "metadata": {
        "colab": {
          "background_save": true
        },
        "id": "CialTx89btQy",
        "outputId": "e28d53bd-dead-4aa1-8566-8e7f484226b3"
      },
      "outputs": [
        {
          "name": "stdout",
          "output_type": "stream",
          "text": [
            "           KodeApt   Wilayah  St_Milik  Jum_Kamar\n",
            "count     9.000000  9.000000  9.000000   9.000000\n",
            "mean   1223.777778  1.555556  0.666667   2.666667\n",
            "std    2863.130445  1.333333  0.500000   0.707107\n",
            "min     104.000000  0.000000  0.000000   1.000000\n",
            "25%     201.000000  0.000000  0.000000   3.000000\n",
            "50%     207.000000  2.000000  1.000000   3.000000\n",
            "75%     215.000000  3.000000  1.000000   3.000000\n",
            "max    8837.000000  3.000000  1.000000   3.000000\n"
          ]
        }
      ],
      "source": [
        "#menampilkan statistik deskriptif\n",
        "print(df.describe())"
      ]
    },
    {
      "cell_type": "code",
      "execution_count": null,
      "metadata": {
        "colab": {
          "background_save": true
        },
        "id": "C9tp05G7b7AB",
        "outputId": "ec846887-fe3b-4bef-f232-b059d64c5e5e"
      },
      "outputs": [
        {
          "name": "stdout",
          "output_type": "stream",
          "text": [
            "   KodeApt  Wilayah  St_Milik  Jum_Kamar\n",
            "0    104.0        0         1        3.0\n",
            "1    197.0        2         0        3.0\n",
            "2   8837.0        2         0      100.0\n",
            "3    201.0        3         0        1.0\n",
            "4    203.0        3         1        3.0\n",
            "5    207.0        3         1        3.0\n",
            "6    837.0        1         1        2.0\n",
            "7    213.0        0         1        3.0\n",
            "8    215.0        0         1        3.0\n",
            "(9, 4)\n",
            "0      3.0\n",
            "1      3.0\n",
            "2    100.0\n",
            "3      1.0\n",
            "4      3.0\n",
            "5      3.0\n",
            "6      2.0\n",
            "7      3.0\n",
            "8      3.0\n",
            "Name: Jum_Kamar, dtype: float64\n"
          ]
        }
      ],
      "source": [
        "#mengganti pada lokasi spesifik\n",
        "df.loc[2,\"Jum_Kamar\"] = 100\n",
        "print(df)\n",
        "print(df.shape)\n",
        "print(df.Jum_Kamar)"
      ]
    },
    {
      "cell_type": "code",
      "execution_count": null,
      "metadata": {
        "colab": {
          "background_save": true
        },
        "id": "eZmHPw8QcMkS",
        "outputId": "d9845707-e0ac-4826-bc41-8618411a50e0"
      },
      "outputs": [
        {
          "name": "stdout",
          "output_type": "stream",
          "text": [
            "[[0.02020202]\n",
            " [0.02020202]\n",
            " [1.        ]\n",
            " [0.        ]\n",
            " [0.02020202]\n",
            " [0.02020202]\n",
            " [0.01010101]\n",
            " [0.02020202]\n",
            " [0.02020202]]\n"
          ]
        }
      ],
      "source": [
        "fitur_minmax = df.copy()\n",
        "kol_minmax = [\"Jum_Kamar\"]\n",
        "features = fitur_minmax[kol_minmax]\n",
        "min_max = MinMaxScaler()\n",
        "Kamar_minmax =min_max.fit_transform(features.values)\n",
        "\n",
        "print(Kamar_minmax)"
      ]
    },
    {
      "cell_type": "code",
      "execution_count": null,
      "metadata": {
        "colab": {
          "background_save": true
        },
        "id": "UpoP0IqyczTr",
        "outputId": "36b41d9a-9991-46b0-bee3-c6d589f43dd7"
      },
      "outputs": [
        {
          "name": "stdout",
          "output_type": "stream",
          "text": [
            "   KodeApt  Wilayah  St_Milik  Jum_Kamar\n",
            "0    104.0        0         1   0.020202\n",
            "1    197.0        2         0   0.020202\n",
            "2   8837.0        2         0   1.000000\n",
            "3    201.0        3         0   0.000000\n",
            "4    203.0        3         1   0.020202\n",
            "5    207.0        3         1   0.020202\n",
            "6    837.0        1         1   0.010101\n",
            "7    213.0        0         1   0.020202\n",
            "8    215.0        0         1   0.020202\n"
          ]
        }
      ],
      "source": [
        "fitur_minmax[kol_minmax] =Kamar_minmax\n",
        "print(fitur_minmax)"
      ]
    },
    {
      "cell_type": "code",
      "execution_count": null,
      "metadata": {
        "colab": {
          "background_save": true
        },
        "id": "V_NTSkdSc9Tb"
      },
      "outputs": [],
      "source": [
        "df.to_csv('apartemen_minmax.csv',header=True,index=False)"
      ]
    },
    {
      "cell_type": "code",
      "execution_count": null,
      "metadata": {
        "colab": {
          "background_save": true
        },
        "id": "YI9xu9VVj5Uq",
        "outputId": "77984437-1a0f-4c76-fab7-256a3361a5c2"
      },
      "outputs": [
        {
          "name": "stdout",
          "output_type": "stream",
          "text": [
            "[[0.        ]\n",
            " [0.66666667]\n",
            " [0.66666667]\n",
            " [1.        ]\n",
            " [1.        ]\n",
            " [1.        ]\n",
            " [0.33333333]\n",
            " [0.        ]\n",
            " [0.        ]]\n"
          ]
        }
      ],
      "source": [
        "#normalisasi\n",
        "\n",
        "kol_minmax = ['Wilayah']\n",
        "features = df[kol_minmax]\n",
        "min_max = MinMaxScaler()\n",
        "Kamar_minmax =min_max.fit_transform(features.values)\n",
        "\n",
        "print(Kamar_minmax)"
      ]
    },
    {
      "cell_type": "code",
      "execution_count": null,
      "metadata": {
        "colab": {
          "background_save": true
        },
        "id": "DFTxkeyFj_lk",
        "outputId": "d690a4fd-8f46-456f-91ae-92558b8f9306"
      },
      "outputs": [
        {
          "name": "stdout",
          "output_type": "stream",
          "text": [
            "[[-0.41482696]\n",
            " [-0.38037467]\n",
            " [ 2.82035407]\n",
            " [-0.37889285]\n",
            " [-0.37815194]\n",
            " [-0.37667012]\n",
            " [-0.14328365]\n",
            " [-0.37444739]\n",
            " [-0.37370648]]\n"
          ]
        }
      ],
      "source": [
        "from sklearn.preprocessing import StandardScaler\n",
        "#standarisasi\n",
        "kol_minmax = ['KodeApt']\n",
        "features = df[kol_minmax]\n",
        "min_max = StandardScaler()\n",
        "Kamar_minmax =min_max.fit_transform(features.values)\n",
        "\n",
        "print(Kamar_minmax)\n"
      ]
    },
    {
      "cell_type": "code",
      "execution_count": null,
      "metadata": {
        "colab": {
          "background_save": true
        },
        "id": "1zdV8JYRkeeW",
        "outputId": "841e9f92-1d57-4dfa-ea27-1e414df21ef7"
      },
      "outputs": [
        {
          "name": "stdout",
          "output_type": "stream",
          "text": [
            "    KodeApt  Wilayah  St_Milik  Jum_Kamar\n",
            "0 -0.414827        0         1   0.020202\n",
            "1 -0.380375        2         0   0.020202\n",
            "2  2.820354        2         0   1.000000\n",
            "3 -0.378893        3         0   0.000000\n",
            "4 -0.378152        3         1   0.020202\n",
            "5 -0.376670        3         1   0.020202\n",
            "6 -0.143284        1         1   0.010101\n",
            "7 -0.374447        0         1   0.020202\n",
            "8 -0.373706        0         1   0.020202\n"
          ]
        }
      ],
      "source": [
        "fitur_minmax[kol_minmax] =Kamar_minmax\n",
        "print(fitur_minmax)"
      ]
    },
    {
      "cell_type": "code",
      "execution_count": null,
      "metadata": {
        "colab": {
          "background_save": true
        },
        "id": "ku-PRPtblbVz"
      },
      "outputs": [],
      "source": [
        "df.to_csv('apartemen_scaling.csv',header=True,index=False)"
      ]
    }
  ],
  "metadata": {
    "colab": {
      "provenance": [],
      "authorship_tag": "ABX9TyP7aAgbEzMxrXQ+e432Xqnh",
      "include_colab_link": true
    },
    "kernelspec": {
      "display_name": "Python 3",
      "name": "python3"
    },
    "language_info": {
      "name": "python"
    }
  },
  "nbformat": 4,
  "nbformat_minor": 0
}